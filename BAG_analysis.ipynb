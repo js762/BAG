{
  "nbformat": 4,
  "nbformat_minor": 0,
  "metadata": {
    "colab": {
      "provenance": [],
      "collapsed_sections": [
        "yfcXAVp1aWdp",
        "Qt0hieG_WHsu",
        "z8TKEQJY5crC",
        "bSASnpXW53Wc",
        "6WSBh9WmZ4QM",
        "Op4fVeu7Z9fl",
        "APgCVbm8Wirh",
        "4ODvyPmEdtS3",
        "fDGkqZBRfnbK",
        "OCXcMJd_fyOE",
        "EHYtoseMgE8G",
        "tZB_HwiLfi5J",
        "C_jaNWAibCCS",
        "_NTef2AtQxN2",
        "7rK-7ex1RJ2_",
        "VIZw16ZpriU5",
        "r1R4E6JRa7hJ",
        "9zUQr88lYm17",
        "xAXmv4qIROs3",
        "ppxXNfrzRSnb",
        "vSRqV1HhVGtT",
        "QAHD_5SIVSap"
      ]
    },
    "kernelspec": {
      "name": "python3",
      "display_name": "Python 3"
    },
    "language_info": {
      "name": "python"
    }
  },
  "cells": [
    {
      "cell_type": "markdown",
      "metadata": {
        "id": "yfcXAVp1aWdp"
      },
      "source": [
        "#Cognition"
      ]
    },
    {
      "cell_type": "markdown",
      "metadata": {
        "id": "Qt0hieG_WHsu"
      },
      "source": [
        "## Perform PCA on Cognito variables - all variables together"
      ]
    },
    {
      "cell_type": "code",
      "execution_count": null,
      "metadata": {
        "id": "mWB_1BuFWRGc"
      },
      "outputs": [],
      "source": [
        "cognito_df_all = pandas.concat([df['Attention_visual'], df['Attention_auditory'], df['Attention_VisualAndAuditory'], df['Language_SentenceComprehension'], df['Language_VerbalFluency'], df['Language_VocabularyTest'], df['Memory_ImmediateRecall'], df['Memory_DelayedRecall'], df['Memory_FaceRecall'], df['Memory_NameFaceAssociations'], df['Memory_NarrativeRecall'], df['Memory_ImplicitMemory'], df['Visuospatial_FormMatching'], df['Visuospatial_Span'], df['Visuospatial_LogicalSeries'], df['Visuospatial_Construction'], df['Visuospatial_Stroop']], axis=1)\n",
        "cognito_df_all_scaler = StandardScaler().fit_transform(cognito_df_all.values)\n",
        "cognito_df_all_scaled = pandas.DataFrame(cognito_df_all_scaler, index=cognito_df_all.index, columns=cognito_df_all.columns)\n",
        "cognito_df_all_pc1 = pca_all.transform(cognito_df_all_scaled)"
      ]
    },
    {
      "cell_type": "markdown",
      "metadata": {
        "id": "z8TKEQJY5crC"
      },
      "source": [
        "##Perform PCA on Cognito variables - separate cognitive subdomains"
      ]
    },
    {
      "cell_type": "code",
      "execution_count": null,
      "metadata": {
        "id": "fKs06mjSOaE2"
      },
      "outputs": [],
      "source": [
        "cognito_df_attention = pandas.concat([df['Attention_visual'], df['Attention_auditory'], df['Attention_VisualAndAuditory']], axis=1)\n",
        "cognito_df_language = pandas.concat([df['Language_SentenceComprehension'], df['Language_VerbalFluency'], df['Language_VocabularyTest']], axis=1)\n",
        "cognito_df_memory = pandas.concat([df['Memory_ImmediateRecall'], df['Memory_DelayedRecall'], df['Memory_FaceRecall'], df['Memory_NameFaceAssociations'], df['Memory_NarrativeRecall'], df['Memory_ImplicitMemory']], axis=1)\n",
        "cognito_df_visuospatial = pandas.concat([df['Visuospatial_FormMatching'], df['Visuospatial_Span'], df['Visuospatial_LogicalSeries'], df['Visuospatial_Construction'], df['Visuospatial_Stroop']], axis=1)\n",
        "\n",
        "cognito_df_attention_scaler = StandardScaler().fit_transform(cognito_df_attention.values)\n",
        "cognito_df_attention_scaled = pandas.DataFrame(cognito_df_attention_scaler, index=cognito_df_attention.index, columns=cognito_df_attention.columns)\n",
        "\n",
        "cognito_df_language_scaler = StandardScaler().fit_transform(cognito_df_language.values)\n",
        "cognito_df_language_scaled = pandas.DataFrame(cognito_df_language_scaler, index=cognito_df_language.index, columns=cognito_df_language.columns)\n",
        "\n",
        "cognito_df_memory_scaler = StandardScaler().fit_transform(cognito_df_memory.values)\n",
        "cognito_df_memory_scaled = pandas.DataFrame(cognito_df_memory_scaler, index=cognito_df_memory.index, columns=cognito_df_memory.columns)\n",
        "\n",
        "cognito_df_visuospatial_scaler = StandardScaler().fit_transform(cognito_df_visuospatial.values)\n",
        "cognito_df_visuospatial_scaled = pandas.DataFrame(cognito_df_visuospatial_scaler, index=cognito_df_visuospatial.index, columns=cognito_df_visuospatial.columns)\n",
        "\n",
        "pca_attention = PCA(n_components=1)\n",
        "pca_attention.fit(cognito_df_attention_scaled)\n",
        "cognito_df_attention_pc1 = pca_attention.transform(cognito_df_attention_scaled)\n",
        "\n",
        "pca_language = PCA(n_components=1)\n",
        "pca_language.fit(cognito_df_language_scaled)\n",
        "cognito_df_language_pc1 = pca_language.transform(cognito_df_language_scaled)\n",
        "\n",
        "pca_memory = PCA(n_components=1)\n",
        "pca_memory.fit(cognito_df_memory_scaled)\n",
        "cognito_df_memory_pc1 = pca_memory.transform(cognito_df_memory_scaled)\n",
        "\n",
        "pca_visuospatial = PCA(n_components=1)\n",
        "pca_visuospatial.fit(cognito_df_visuospatial_scaled)\n",
        "cognito_df_visuospatial_pc1 = pca_visuospatial.transform(cognito_df_visuospatial_scaled)"
      ]
    },
    {
      "cell_type": "markdown",
      "metadata": {
        "id": "bSASnpXW53Wc"
      },
      "source": [
        "#Associations/differences between Brain Age Gap and other variables"
      ]
    },
    {
      "cell_type": "markdown",
      "metadata": {
        "id": "6WSBh9WmZ4QM"
      },
      "source": [
        "##Continuous variables"
      ]
    },
    {
      "cell_type": "markdown",
      "metadata": {
        "id": "E2LoXREYZ-9X"
      },
      "source": [
        "###Spearman correlation between Brain Age Gap and Age"
      ]
    },
    {
      "cell_type": "code",
      "execution_count": null,
      "metadata": {
        "id": "vgucKrzESaue"
      },
      "outputs": [],
      "source": [
        "stats.spearmanr(df['BrainAgeGap'], df['Age'])"
      ]
    },
    {
      "cell_type": "markdown",
      "metadata": {
        "id": "wR8v5OsaSa-s"
      },
      "source": [
        "###Spearman correlation between Brain Age Gap and Brain Age"
      ]
    },
    {
      "cell_type": "code",
      "execution_count": null,
      "metadata": {
        "id": "7BnDhxv_ybLd"
      },
      "outputs": [],
      "source": [
        "stats.spearmanr(df['BrainAgeGap'], df['BrainAge'])"
      ]
    },
    {
      "cell_type": "markdown",
      "metadata": {
        "id": "OQJidXZNSQh_"
      },
      "source": [
        "###Spearman correlation between Brain Age Gap and Years of Education"
      ]
    },
    {
      "cell_type": "code",
      "execution_count": null,
      "metadata": {
        "id": "aBe11D5cyqxb"
      },
      "outputs": [],
      "source": [
        "stats.spearmanr(df['BrainAgeGap'], df['YearsOfEducation'])"
      ]
    },
    {
      "cell_type": "markdown",
      "metadata": {
        "id": "WvkcX8WEaIRJ"
      },
      "source": [
        "###Spearman correlation between Brain Age Gap and alcohol intake"
      ]
    },
    {
      "cell_type": "code",
      "execution_count": null,
      "metadata": {
        "id": "bhr1SR9XaKKl"
      },
      "outputs": [],
      "source": [
        "stats.spearmanr(df['BrainAgeGap'], df['alcoholw'])"
      ]
    },
    {
      "cell_type": "markdown",
      "metadata": {
        "id": "d_Q_0K-zoDGc"
      },
      "source": [
        "###Spearman correlation between Brain Age Gap and head trauma"
      ]
    },
    {
      "cell_type": "code",
      "execution_count": null,
      "metadata": {
        "id": "P8Z2ZNlUoEkp"
      },
      "outputs": [],
      "source": [
        "stats.spearmanr(df['BrainAgeGap'], df['TotBlows'])"
      ]
    },
    {
      "cell_type": "markdown",
      "metadata": {
        "id": "DCTV46bRfprT"
      },
      "source": [
        "###Spearman correlation between Brain Age Gap and Amyloid Centiloid Score"
      ]
    },
    {
      "cell_type": "code",
      "execution_count": null,
      "metadata": {
        "id": "Fbbg8yiwftz6"
      },
      "outputs": [],
      "source": [
        "stats.spearmanr(df.dropna(subset=['Centiloid'])['BrainAgeGap'], df.dropna(subset=['Centiloid'])['Centiloid'])"
      ]
    },
    {
      "cell_type": "markdown",
      "metadata": {
        "id": "Op4fVeu7Z9fl"
      },
      "source": [
        "## Categorical variables"
      ]
    },
    {
      "cell_type": "markdown",
      "metadata": {
        "id": "APgCVbm8Wirh"
      },
      "source": [
        "###Scanning site"
      ]
    },
    {
      "cell_type": "code",
      "execution_count": null,
      "metadata": {
        "id": "PcfYTZizWkj9"
      },
      "outputs": [],
      "source": [
        "df['ScanningSiteName'].value_counts()\n",
        "\n",
        "ScanningSite1=df.query('ScanningSiteNumber == 1')['BrainAgeGap']\n",
        "ScanningSite1_median = ScanningSite1.median()\n",
        "\n",
        "ScanningSite2=df.query('ScanningSiteNumber == 2')['BrainAgeGap']\n",
        "ScanningSite2_median = ScanningSite2.median()\n",
        "\n",
        "ScanningSite3=df.query('ScanningSiteNumber == 3')['BrainAgeGap']\n",
        "ScanningSite3_median = ScanningSite3.median()\n",
        "\n",
        "ScanningSite4=df.query('ScanningSiteNumber == 4')['BrainAgeGap']\n",
        "ScanningSite4_median = ScanningSite4.median()\n",
        "\n",
        "ScanningSite5=df.query('ScanningSiteNumber == 5')['BrainAgeGap']\n",
        "ScanningSite5_median = ScanningSite5.median()\n",
        "\n",
        "stats.kruskal(ScanningSite1,ScanningSite2,ScanningSite3,ScanningSite4,ScanningSite5)\n",
        "\n",
        "posthocDunn_data = [ScanningSite1, ScanningSite2, ScanningSite3, ScanningSite4, ScanningSite5]\n",
        "posthocDunn_data\n",
        "scikit_posthocs.posthoc_dunn(posthocDunn_data, p_adjust = 'bonferroni')"
      ]
    },
    {
      "cell_type": "markdown",
      "metadata": {
        "id": "4ODvyPmEdtS3"
      },
      "source": [
        "###Sex"
      ]
    },
    {
      "cell_type": "code",
      "execution_count": null,
      "metadata": {
        "id": "wR0kr4WVdxwQ"
      },
      "outputs": [],
      "source": [
        "df['Sex'].value_counts()\n",
        "\n",
        "Male=df.query('Sex == \"Male\"')['BrainAgeGap']\n",
        "print(Male.median())\n",
        "Male_median = Male.median()\n",
        "\n",
        "Female=df.query('Sex == \"Female\"')['BrainAgeGap']\n",
        "print(Female.median())\n",
        "Female_median = Female.median()\n",
        "\n",
        "stats.mannwhitneyu(Male,Female)"
      ]
    },
    {
      "cell_type": "markdown",
      "metadata": {
        "id": "fDGkqZBRfnbK"
      },
      "source": [
        "###Hypertension"
      ]
    },
    {
      "cell_type": "code",
      "execution_count": null,
      "metadata": {
        "id": "T9Dip5v_frNm"
      },
      "outputs": [],
      "source": [
        "df['medhyp'].value_counts()\n",
        "\n",
        "NoHypertension=df.query('medhyp == 0')['BrainAgeGap']\n",
        "print(NoHypertension.median())\n",
        "NoHypertension_median = NoHypertension.median()\n",
        "\n",
        "Hypertension=df.query('medhyp == 1')['BrainAgeGap']\n",
        "print(Hypertension.median())\n",
        "Hypertension_median = Hypertension.median()\n",
        "\n",
        "stats.mannwhitneyu(NoHypertension,Hypertension)"
      ]
    },
    {
      "cell_type": "markdown",
      "metadata": {
        "id": "OCXcMJd_fyOE"
      },
      "source": [
        "###Obesity"
      ]
    },
    {
      "cell_type": "code",
      "execution_count": null,
      "metadata": {
        "id": "T-Y3_aY0f3vA"
      },
      "outputs": [],
      "source": [
        "df['medob'].value_counts()\n",
        "\n",
        "NoObesity=df.query('medob == 0')['BrainAgeGap']\n",
        "print(NoObesity.median())\n",
        "NoObesity_median = NoObesity.median()\n",
        "\n",
        "Obesity=df.query('medob == 1')['BrainAgeGap']\n",
        "print(Obesity.median())\n",
        "Obesity_median = Obesity.median()\n",
        "\n",
        "stats.mannwhitneyu(NoObesity,Obesity)"
      ]
    },
    {
      "cell_type": "markdown",
      "metadata": {
        "id": "EHYtoseMgE8G"
      },
      "source": [
        "###Hearing disorder"
      ]
    },
    {
      "cell_type": "code",
      "execution_count": null,
      "metadata": {
        "id": "I0F50vM0gKZj"
      },
      "outputs": [],
      "source": [
        "df['medhear'].value_counts()\n",
        "\n",
        "NoHearingDisorder=df.query('medhear == 0')['BrainAgeGap']\n",
        "print(NoHearingDisorder.median())\n",
        "NoHearingDisorder_median = NoHearingDisorder.median()\n",
        "\n",
        "HearingDisorder=df.query('medhear == 1')['BrainAgeGap']\n",
        "print(HearingDisorder.median())\n",
        "HearingDisorder_median = HearingDisorder.median()\n",
        "\n",
        "stats.mannwhitneyu(NoHearingDisorder,HearingDisorder)"
      ]
    },
    {
      "cell_type": "markdown",
      "metadata": {
        "id": "tZB_HwiLfi5J"
      },
      "source": [
        "###APOE4 carrier"
      ]
    },
    {
      "cell_type": "code",
      "execution_count": null,
      "metadata": {
        "id": "7bWJpo5hfn3Q"
      },
      "outputs": [],
      "source": [
        "df['APOE4_carrier'].value_counts()\n",
        "\n",
        "NonCarrier=df.query('APOE4_carrier == 0')['BrainAgeGap']\n",
        "print(NonCarrier.median())\n",
        "NonCarrier_median = NonCarrier.median()\n",
        "\n",
        "Carrier=df.query('APOE4_carrier == 1')['BrainAgeGap']\n",
        "print(Carrier.median())\n",
        "Carrier_median = Carrier.median()\n",
        "\n",
        "stats.mannwhitneyu(NonCarrier,Carrier)"
      ]
    },
    {
      "cell_type": "markdown",
      "metadata": {
        "id": "C_jaNWAibCCS"
      },
      "source": [
        "#Associations between Brain Age Gap and risk factors"
      ]
    },
    {
      "cell_type": "markdown",
      "metadata": {
        "id": "_NTef2AtQxN2"
      },
      "source": [
        "##Model with modifiable risk factors and confounds"
      ]
    },
    {
      "cell_type": "code",
      "execution_count": null,
      "metadata": {
        "id": "3M9kITfIQzUV"
      },
      "outputs": [],
      "source": [
        "current_formula = 'BrainAgeGap ~ C(medhyp) + C(medob) + C(medhear) + alcoholw + TotBlows + Age + C(Sex) + C(ScanningSiteNumber) + YearsOfEducation + Age : C(Sex_levels) + numpy.power(Age, 2)'\n",
        "huber_t_model = statsmodels.formula.api.rlm(formula=current_formula, data = df, M=statsmodels.api.robust.norms.HuberT()).fit()"
      ]
    },
    {
      "cell_type": "markdown",
      "metadata": {
        "id": "7rK-7ex1RJ2_"
      },
      "source": [
        "##Model with APOE4 and confounds"
      ]
    },
    {
      "cell_type": "code",
      "execution_count": null,
      "metadata": {
        "id": "Zd3ye67DRMXQ"
      },
      "outputs": [],
      "source": [
        "current_formula = 'BrainAgeGap ~ C(APOE4_carrier) + Age + C(Sex) + C(ScanningSiteNumber) + YearsOfEducation + Age : C(Sex_levels) + numpy.power(Age, 2)'\n",
        "huber_t_model = statsmodels.formula.api.rlm(formula=current_formula, data = df, M=statsmodels.api.robust.norms.HuberT()).fit()"
      ]
    },
    {
      "cell_type": "markdown",
      "metadata": {
        "id": "VIZw16ZpriU5"
      },
      "source": [
        "##Model with amyloid PET deposition and confounds"
      ]
    },
    {
      "cell_type": "code",
      "execution_count": null,
      "metadata": {
        "id": "uiysBkF-rp-f"
      },
      "outputs": [],
      "source": [
        "current_formula = 'BrainAgeGapV1 ~ Centiloid + Age + C(Sex) + C(ScanningSiteNumber) + YearsOfEducation + Age : C(Sex_levels) + numpy.power(Age, 2)'\n",
        "huber_t_model = statsmodels.formula.api.rlm(formula=current_formula, data = df, M=statsmodels.api.robust.norms.HuberT()).fit()"
      ]
    },
    {
      "cell_type": "markdown",
      "metadata": {
        "id": "r1R4E6JRa7hJ"
      },
      "source": [
        "#Associations between Brain Age Gap and Cognition"
      ]
    },
    {
      "cell_type": "markdown",
      "metadata": {
        "id": "9zUQr88lYm17"
      },
      "source": [
        "### Prespecified Analysis - All PC1"
      ]
    },
    {
      "cell_type": "code",
      "execution_count": null,
      "metadata": {
        "id": "HXEpKrbMYp_0"
      },
      "outputs": [],
      "source": [
        "current_formula = 'cognito_df_all_pc1 ~ BrainAgeGap + Age + C(Sex) + C(ScanningSiteNumber) + YearsOfEducation + Age : C(Sex_levels) + numpy.power(Age, 2)'\n",
        "huber_t_model = statsmodels.formula.api.rlm(formula=current_formula, data = df, M=statsmodels.api.robust.norms.HuberT()).fit()"
      ]
    },
    {
      "cell_type": "markdown",
      "metadata": {
        "id": "xAXmv4qIROs3"
      },
      "source": [
        "### Posthoc Analysis - Attention PC1"
      ]
    },
    {
      "cell_type": "code",
      "execution_count": null,
      "metadata": {
        "id": "FKE8OOOAQifx"
      },
      "outputs": [],
      "source": [
        "current_formula = 'cognito_df_attention_pc1 ~ BrainAgeGap + Age + C(Sex) + C(ScanningSiteNumber) + YearsOfEducation + Age : C(Sex_levels) + numpy.power(Age, 2)'\n",
        "huber_t_model = statsmodels.formula.api.rlm(formula=current_formula, data = df, M=statsmodels.api.robust.norms.HuberT()).fit()"
      ]
    },
    {
      "cell_type": "markdown",
      "metadata": {
        "id": "ppxXNfrzRSnb"
      },
      "source": [
        "### Posthoc Analysis - Language PC1"
      ]
    },
    {
      "cell_type": "code",
      "execution_count": null,
      "metadata": {
        "id": "sTKAR7w8RXnc"
      },
      "outputs": [],
      "source": [
        "current_formula = 'cognito_df_language_pc1 ~ BrainAgeGap + Age + C(Sex) + C(ScanningSiteNumber) + YearsOfEducation + Age : C(Sex_levels) + numpy.power(Age, 2)'\n",
        "huber_t_model = statsmodels.formula.api.rlm(formula=current_formula, data = df, M=statsmodels.api.robust.norms.HuberT()).fit()"
      ]
    },
    {
      "cell_type": "markdown",
      "metadata": {
        "id": "vSRqV1HhVGtT"
      },
      "source": [
        "### Posthoc analysis - Memory PC1"
      ]
    },
    {
      "cell_type": "code",
      "execution_count": null,
      "metadata": {
        "id": "K_BaKYPwVKXY"
      },
      "outputs": [],
      "source": [
        "current_formula = 'cognito_df_memory_pc1 ~ BrainAgeGap + Age + C(Sex) + C(ScanningSiteNumber) + YearsOfEducation + Age : C(Sex_levels) + numpy.power(Age, 2)'\n",
        "huber_t_model = statsmodels.formula.api.rlm(formula=current_formula, data = df, M=statsmodels.api.robust.norms.HuberT()).fit()"
      ]
    },
    {
      "cell_type": "markdown",
      "metadata": {
        "id": "QAHD_5SIVSap"
      },
      "source": [
        "### Posthoc analysis - Visuospatial PC1"
      ]
    },
    {
      "cell_type": "code",
      "execution_count": null,
      "metadata": {
        "id": "lnn8fyDZVWSA"
      },
      "outputs": [],
      "source": [
        "current_formula = 'cognito_df_visuospatial_pc1 ~ BrainAgeGap + Age + C(Sex) + C(ScanningSiteNumber) + YearsOfEducation + Age : C(Sex_levels) + numpy.power(Age, 2)'\n",
        "huber_t_model = statsmodels.formula.api.rlm(formula=current_formula, data = df, M=statsmodels.api.robust.norms.HuberT()).fit()"
      ]
    }
  ]
}